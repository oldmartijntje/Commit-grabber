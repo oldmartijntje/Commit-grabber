﻿{
 "cells": [
  {
   "cell_type": "code",
   "id": "initial_id",
   "metadata": {
    "collapsed": true,
    "ExecuteTime": {
     "end_time": "2025-06-02T11:18:09.015184Z",
     "start_time": "2025-06-02T11:18:09.003255Z"
    }
   },
   "source": [
    "import pandas as pd\n",
    "my_data = pd.read_csv(\"./commit_details.csv\")\n",
    "my_data.head()"
   ],
   "outputs": [
    {
     "data": {
      "text/plain": [
       "                             repository                            message  \\\n",
       "0  2F1BELP2O1---eindopdracht---Mad-libs  secure contain protect and love ♥   \n",
       "1  2F1BELP2O1---eindopdracht---Mad-libs         backup for required fields   \n",
       "2  2F1BELP2O1---eindopdracht---Mad-libs       smol fix about still being 0   \n",
       "3  2F1BELP2O1---eindopdracht---Mad-libs                   console log gone   \n",
       "4  2F1BELP2O1---eindopdracht---Mad-libs      got it working, it's complete   \n",
       "\n",
       "                                commit_hash                  date  \n",
       "0  47b1a16c1fa28fc83fc741f6d9408cffe38733bc  2023-03-28T12:25:31Z  \n",
       "1  0d72fceae7114f23d770d2205c7abaf736f9ba3b  2023-03-20T13:03:57Z  \n",
       "2  6d6e526b3ac88d887ff29f4acce0d43bba4ea956  2023-03-17T21:29:32Z  \n",
       "3  0400f21d95e475278276bdea40d54c26fec9091b  2023-03-17T20:12:26Z  \n",
       "4  38b88d5ea0adc22a1adf4df2990da290a6e8d77b  2023-03-17T20:11:32Z  "
      ],
      "text/html": [
       "<div>\n",
       "<style scoped>\n",
       "    .dataframe tbody tr th:only-of-type {\n",
       "        vertical-align: middle;\n",
       "    }\n",
       "\n",
       "    .dataframe tbody tr th {\n",
       "        vertical-align: top;\n",
       "    }\n",
       "\n",
       "    .dataframe thead th {\n",
       "        text-align: right;\n",
       "    }\n",
       "</style>\n",
       "<table border=\"1\" class=\"dataframe\">\n",
       "  <thead>\n",
       "    <tr style=\"text-align: right;\">\n",
       "      <th></th>\n",
       "      <th>repository</th>\n",
       "      <th>message</th>\n",
       "      <th>commit_hash</th>\n",
       "      <th>date</th>\n",
       "    </tr>\n",
       "  </thead>\n",
       "  <tbody>\n",
       "    <tr>\n",
       "      <th>0</th>\n",
       "      <td>2F1BELP2O1---eindopdracht---Mad-libs</td>\n",
       "      <td>secure contain protect and love ♥</td>\n",
       "      <td>47b1a16c1fa28fc83fc741f6d9408cffe38733bc</td>\n",
       "      <td>2023-03-28T12:25:31Z</td>\n",
       "    </tr>\n",
       "    <tr>\n",
       "      <th>1</th>\n",
       "      <td>2F1BELP2O1---eindopdracht---Mad-libs</td>\n",
       "      <td>backup for required fields</td>\n",
       "      <td>0d72fceae7114f23d770d2205c7abaf736f9ba3b</td>\n",
       "      <td>2023-03-20T13:03:57Z</td>\n",
       "    </tr>\n",
       "    <tr>\n",
       "      <th>2</th>\n",
       "      <td>2F1BELP2O1---eindopdracht---Mad-libs</td>\n",
       "      <td>smol fix about still being 0</td>\n",
       "      <td>6d6e526b3ac88d887ff29f4acce0d43bba4ea956</td>\n",
       "      <td>2023-03-17T21:29:32Z</td>\n",
       "    </tr>\n",
       "    <tr>\n",
       "      <th>3</th>\n",
       "      <td>2F1BELP2O1---eindopdracht---Mad-libs</td>\n",
       "      <td>console log gone</td>\n",
       "      <td>0400f21d95e475278276bdea40d54c26fec9091b</td>\n",
       "      <td>2023-03-17T20:12:26Z</td>\n",
       "    </tr>\n",
       "    <tr>\n",
       "      <th>4</th>\n",
       "      <td>2F1BELP2O1---eindopdracht---Mad-libs</td>\n",
       "      <td>got it working, it's complete</td>\n",
       "      <td>38b88d5ea0adc22a1adf4df2990da290a6e8d77b</td>\n",
       "      <td>2023-03-17T20:11:32Z</td>\n",
       "    </tr>\n",
       "  </tbody>\n",
       "</table>\n",
       "</div>"
      ]
     },
     "execution_count": 3,
     "metadata": {},
     "output_type": "execute_result"
    }
   ],
   "execution_count": 3
  },
  {
   "metadata": {
    "ExecuteTime": {
     "end_time": "2025-06-02T11:17:56.948984Z",
     "start_time": "2025-06-02T11:17:56.940451Z"
    }
   },
   "cell_type": "code",
   "source": "my_data['message'].value_counts()",
   "id": "25a7f57847aed836",
   "outputs": [
    {
     "data": {
      "text/plain": [
       "message\n",
       "Updating Data.                              87\n",
       "Initial commit                              33\n",
       "e                                           17\n",
       "test                                        15\n",
       "cleanup                                      6\n",
       "                                            ..\n",
       "html2.5.jarvis hacked                        1\n",
       "move all school year 1 projects together     1\n",
       "Create README.md                             1\n",
       "php shit                                     1\n",
       "setup of file structure                      1\n",
       "Name: count, Length: 1755, dtype: int64"
      ]
     },
     "execution_count": 2,
     "metadata": {},
     "output_type": "execute_result"
    }
   ],
   "execution_count": 2
  }
 ],
 "metadata": {
  "kernelspec": {
   "display_name": "Python 3",
   "language": "python",
   "name": "python3"
  },
  "language_info": {
   "codemirror_mode": {
    "name": "ipython",
    "version": 2
   },
   "file_extension": ".py",
   "mimetype": "text/x-python",
   "name": "python",
   "nbconvert_exporter": "python",
   "pygments_lexer": "ipython2",
   "version": "2.7.6"
  }
 },
 "nbformat": 4,
 "nbformat_minor": 5
}
